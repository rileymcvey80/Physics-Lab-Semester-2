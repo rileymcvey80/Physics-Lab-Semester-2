{
 "cells": [
  {
   "cell_type": "markdown",
   "metadata": {},
   "source": [
    "# $\\alpha = \\frac {\\Delta L} {L \\Delta T}$ "
   ]
  },
  {
   "cell_type": "code",
   "execution_count": 4,
   "metadata": {},
   "outputs": [
    {
     "name": "stdout",
     "output_type": "stream",
     "text": [
      "0.31622776601683794\n"
     ]
    }
   ],
   "source": [
    "import numpy as np\n",
    "def rule3(errA,errB):\n",
    "    errT = np.sqrt(errA**2 + errB**2)\n",
    "    return errT\n",
    "\n",
    "errT_i = 0.3 #C\n",
    "errT_f = 0.1 #C\n",
    "err_Delta_T = rule3(errT_i, errT_f)\n",
    "print (err_Delta_T)"
   ]
  },
  {
   "cell_type": "code",
   "execution_count": 12,
   "metadata": {},
   "outputs": [
    {
     "name": "stdout",
     "output_type": "stream",
     "text": [
      "1.7228309558266145e-05 plus or minus 1.5962962826045274e-07\n"
     ]
    }
   ],
   "source": [
    "def rule4(errA, errB, errC, A,B,C,Q):\n",
    "    err_alpha = Q * np.sqrt((-errA/A)**2 + (-errB/B)**2 + (errC/C)**2)\n",
    "    return err_alpha\n",
    "errL= 1 #mm\n",
    "L= 1.05 *1000 #mm\n",
    "errDeltaL= 0.01 #mm\n",
    "DeltaL= 1.25 #mm\n",
    "DeltaT= 92.5-23.4 #C\n",
    "\n",
    "alpha= DeltaL/(L* DeltaT)\n",
    "\n",
    "\n",
    "erralpha = rule4(errL, errDeltaL, err_Delta_T, L, DeltaL, DeltaT, alpha)\n",
    "print(alpha ,\"plus or minus\", erralpha)\n",
    "    \n"
   ]
  },
  {
   "cell_type": "code",
   "execution_count": null,
   "metadata": {},
   "outputs": [],
   "source": []
  }
 ],
 "metadata": {
  "kernelspec": {
   "display_name": "Python 3",
   "language": "python",
   "name": "python3"
  },
  "language_info": {
   "codemirror_mode": {
    "name": "ipython",
    "version": 3
   },
   "file_extension": ".py",
   "mimetype": "text/x-python",
   "name": "python",
   "nbconvert_exporter": "python",
   "pygments_lexer": "ipython3",
   "version": "3.6.5"
  }
 },
 "nbformat": 4,
 "nbformat_minor": 2
}
